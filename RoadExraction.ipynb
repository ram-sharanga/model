{
  "cells": [
    {
      "cell_type": "code",
      "execution_count": null,
      "metadata": {
        "id": "NufohvukKfGS",
        "colab": {
          "base_uri": "https://localhost:8080/"
        },
        "outputId": "acaf9859-2b71-43bd-fbfb-ba504c177225"
      },
      "outputs": [
        {
          "output_type": "stream",
          "name": "stdout",
          "text": [
            "Collecting patchify\n",
            "  Downloading patchify-0.2.3-py3-none-any.whl.metadata (3.0 kB)\n",
            "Requirement already satisfied: numpy<2,>=1 in /usr/local/lib/python3.10/dist-packages (from patchify) (1.26.4)\n",
            "Downloading patchify-0.2.3-py3-none-any.whl (6.6 kB)\n",
            "Installing collected packages: patchify\n",
            "Successfully installed patchify-0.2.3\n"
          ]
        }
      ],
      "source": [
        "!pip install patchify"
      ]
    },
    {
      "cell_type": "code",
      "execution_count": null,
      "metadata": {
        "id": "8ccJ6R05xw-V"
      },
      "outputs": [],
      "source": [
        "import os\n",
        "import cv2 as cv\n",
        "import numpy as np\n",
        "from patchify import patchify\n",
        "from sklearn.preprocessing import MinMaxScaler\n",
        "from sklearn.model_selection import train_test_split\n",
        "from tensorflow.keras.utils import to_categorical\n",
        "from matplotlib import pyplot as plt\n",
        "from google.colab.patches import cv2_imshow"
      ]
    },
    {
      "cell_type": "code",
      "execution_count": null,
      "metadata": {
        "id": "bhyxnbl8KuFk"
      },
      "outputs": [],
      "source": [
        "minmaxscaler = MinMaxScaler()"
      ]
    },
    {
      "cell_type": "code",
      "execution_count": null,
      "metadata": {
        "id": "otw8jW9Q45af",
        "colab": {
          "base_uri": "https://localhost:8080/"
        },
        "outputId": "b3e48089-1766-4f12-c5ff-45fa477641d4"
      },
      "outputs": [
        {
          "output_type": "stream",
          "name": "stdout",
          "text": [
            "total 33K\n",
            "-rw------- 1 root root  548 Aug 24 05:16  classes.json\n",
            "drwx------ 4 root root 4.0K Aug 25 07:41 'Tile 1'\n",
            "drwx------ 4 root root 4.0K Aug 25 07:41 'Tile 2'\n",
            "drwx------ 4 root root 4.0K Aug 25 07:41 'Tile 3'\n",
            "drwx------ 4 root root 4.0K Aug 25 07:41 'Tile 4'\n",
            "drwx------ 4 root root 4.0K Aug 25 07:41 'Tile 5'\n",
            "drwx------ 4 root root 4.0K Aug 25 07:41 'Tile 6'\n",
            "drwx------ 4 root root 4.0K Aug 25 07:41 'Tile 7'\n",
            "drwx------ 4 root root 4.0K Aug 25 07:41 'Tile 8'\n"
          ]
        }
      ],
      "source": [
        "!ls -lah \"/content/drive/MyDrive/Semantic segmentation dataset\""
      ]
    },
    {
      "cell_type": "code",
      "execution_count": null,
      "metadata": {
        "id": "ozC0cSaOxKf7"
      },
      "outputs": [],
      "source": [
        "dataset_root_folder = \"/content/drive/MyDrive/\""
      ]
    },
    {
      "cell_type": "code",
      "execution_count": null,
      "metadata": {
        "id": "okqqTS97xWis"
      },
      "outputs": [],
      "source": [
        "dataset_name = \"Semantic segmentation dataset\""
      ]
    },
    {
      "cell_type": "code",
      "execution_count": null,
      "metadata": {
        "id": "UgG0oY3qxZh9"
      },
      "outputs": [],
      "source": [
        "# for path, sub_dirs, files in os.walk(os.path.join(dataset_root_folder, dataset_name)):\n",
        "#   dir_name = path.split(os.path.sep)[-1]\n",
        "#   if dir_name == \"masks\":\n",
        "#     images = os.listdir(path)\n",
        "#     for i, image_name in enumerate(images):\n",
        "#       if image_name.endswith('.png'):\n",
        "#         a = True\n"
      ]
    },
    {
      "cell_type": "code",
      "execution_count": null,
      "metadata": {
        "id": "df9qnNzcZ18F"
      },
      "outputs": [],
      "source": [
        "image_dataset = []\n",
        "mask_dataset = []\n",
        "image_patch_size = 256"
      ]
    },
    {
      "cell_type": "code",
      "execution_count": null,
      "metadata": {
        "id": "CXBvI4i0fODK"
      },
      "outputs": [],
      "source": [
        "for image_type in [\"images\", \"masks\"]:\n",
        "  if image_type == \"images\":\n",
        "    image_extension = \"jpg\"\n",
        "  elif image_type == \"masks\":\n",
        "    image_extension = \"png\"\n",
        "  for tile_number in range(1,9):\n",
        "    for image_number in range(1,20):\n",
        "      image = cv.imread(f'{dataset_root_folder}/{dataset_name}/Tile {tile_number}/{image_type}/image_part_00{image_number}.{image_extension}', 1)\n",
        "      if image is not None:\n",
        "        if image_type == \"masks\":\n",
        "          image = cv.cvtColor(image, cv.COLOR_BGR2RGB)\n",
        "        patch_height = (image.shape[0]//image_patch_size)*image_patch_size\n",
        "        patch_width = (image.shape[1]//image_patch_size)*image_patch_size\n",
        "        image = image[:patch_height, :patch_width]\n",
        "        patched_images = patchify(image, (image_patch_size, image_patch_size, 3), step=image_patch_size)\n",
        "        for i in range(patched_images.shape[0]):\n",
        "          for j in range(patched_images.shape[1]):\n",
        "            individual_patch = patched_images[i, j, :, :]\n",
        "            if image_type == \"images\":\n",
        "              individual_patch = minmaxscaler.fit_transform(individual_patch.reshape(-1, individual_patch.shape[-1])).reshape(individual_patch.shape)\n",
        "              individual_patched_image = individual_patch[0]\n",
        "              image_dataset.append(individual_patched_image)\n",
        "            elif image_type == \"masks\":\n",
        "              individual_patched_mask = individual_patch[0]\n",
        "              mask_dataset.append(individual_patched_mask)"
      ]
    },
    {
      "cell_type": "code",
      "execution_count": null,
      "metadata": {
        "id": "c1lbPT4DLC1-"
      },
      "outputs": [],
      "source": [
        "plt.figure(figsize=(10,10))\n",
        "plt.subplot(121)\n",
        "plt.imshow(image_dataset[0])\n",
        "plt.subplot(122)\n",
        "plt.imshow(mask_dataset[0])"
      ]
    },
    {
      "cell_type": "code",
      "execution_count": null,
      "metadata": {
        "id": "ErZFY7BCv7BT"
      },
      "outputs": [],
      "source": [
        "class_building = np.array([int(\"3c1098\"[i:i+2], 16) for i in (0, 2, 4)])\n",
        "class_land = np.array([int(\"8429f6\"[i:i+2], 16) for i in (0, 2, 4)])\n",
        "class_road = np.array([int(\"6ec1e4\"[i:i+2], 16) for i in (0, 2, 4)])\n",
        "class_vegetation = np.array([int(\"fedd3a\"[i:i+2], 16) for i in (0, 2, 4)])\n",
        "class_water = np.array([int(\"e2a929\"[i:i+2], 16) for i in (0, 2, 4)])\n",
        "class_unlabeled = np.array([int(\"9b9b9b\"[i:i+2], 16) for i in (0, 2, 4)])"
      ]
    },
    {
      "cell_type": "code",
      "execution_count": null,
      "metadata": {
        "id": "ec9Ltx7c0Z5I"
      },
      "outputs": [],
      "source": [
        "labels = []\n",
        "label = individual_patched_mask"
      ]
    },
    {
      "cell_type": "code",
      "execution_count": null,
      "metadata": {
        "id": "Yn5FDAccOsC7"
      },
      "outputs": [],
      "source": [
        "def rgb_to_label(label):\n",
        "  label_segment = np.zeros(label.shape, dtype=np.uint8)\n",
        "  label_segment[np.all(label == class_water, axis=-1)] = 0\n",
        "  label_segment[np.all(label == class_land, axis=-1)] = 1\n",
        "  label_segment[np.all(label == class_road, axis=-1)] = 2\n",
        "  label_segment[np.all(label == class_building, axis=-1)] = 3\n",
        "  label_segment[np.all(label == class_vegetation, axis=-1)] = 4\n",
        "  label_segment[np.all(label == class_unlabeled, axis=-1)] = 5\n",
        "  label_segment = label_segment[:, :, 0]\n",
        "\n",
        "  return label_segment"
      ]
    },
    {
      "cell_type": "code",
      "execution_count": null,
      "metadata": {
        "id": "0QzB6K3XParV"
      },
      "outputs": [],
      "source": [
        "for i in range(len(mask_dataset)):\n",
        "  label = rgb_to_label(mask_dataset[i])\n",
        "  labels.append(label)"
      ]
    },
    {
      "cell_type": "code",
      "execution_count": null,
      "metadata": {
        "id": "t_qaIADQPfwu"
      },
      "outputs": [],
      "source": [
        "labels = np.array(labels)"
      ]
    },
    {
      "cell_type": "code",
      "execution_count": null,
      "metadata": {
        "id": "2kDIF12Lr0Zz"
      },
      "outputs": [],
      "source": [
        "labels = np.expand_dims(labels, axis=3)"
      ]
    },
    {
      "cell_type": "code",
      "execution_count": null,
      "metadata": {
        "id": "llD-SslhjmNu"
      },
      "outputs": [],
      "source": [
        "plt.figure(figsize=(10,10))\n",
        "plt.subplot(121)\n",
        "plt.imshow(image_dataset[10])\n",
        "plt.subplot(122)\n",
        "plt.imshow(labels[10][:,:,0])"
      ]
    },
    {
      "cell_type": "code",
      "execution_count": null,
      "metadata": {
        "id": "6Asv_CTOhzlD"
      },
      "outputs": [],
      "source": [
        "total_classes = len(np.unique(labels))"
      ]
    },
    {
      "cell_type": "code",
      "execution_count": null,
      "metadata": {
        "id": "Xw5eWYvsphpt"
      },
      "outputs": [],
      "source": [
        "master_training_dataset = np.array(image_dataset)"
      ]
    },
    {
      "cell_type": "code",
      "execution_count": null,
      "metadata": {
        "id": "GuS22OITiaXW"
      },
      "outputs": [],
      "source": [
        "labels_categorical_dataset = to_categorical(labels, num_classes = total_classes)"
      ]
    },
    {
      "cell_type": "code",
      "source": [
        "import pickle"
      ],
      "metadata": {
        "id": "D7OER6g7ObA0"
      },
      "execution_count": null,
      "outputs": []
    },
    {
      "cell_type": "code",
      "source": [
        "# with open('master_training_dataset.pkl', 'wb') as f:\n",
        "#     pickle.dump(master_training_dataset, f)\n",
        "with open('labels_categorical_dataset.pkl', 'wb') as f:\n",
        "    pickle.dump(labels_categorical_dataset, f)"
      ],
      "metadata": {
        "id": "FYMjtFP4Oa7m"
      },
      "execution_count": null,
      "outputs": []
    },
    {
      "cell_type": "code",
      "source": [
        "with open('master_training_dataset.pkl', 'rb') as f:\n",
        "    master_training_dataset_loaded = pickle.load(f)\n",
        "    print(master_training_dataset_loaded)"
      ],
      "metadata": {
        "colab": {
          "base_uri": "https://localhost:8080/"
        },
        "id": "nDDmecOkOazI",
        "outputId": "775dc5d8-ae50-4840-c97f-460924893efb"
      },
      "execution_count": null,
      "outputs": [
        {
          "output_type": "stream",
          "name": "stdout",
          "text": [
            "[[[[0.78823529 0.76470588 0.74509804]\n",
            "   [0.88235294 0.85882353 0.83921569]\n",
            "   [0.94509804 0.90980392 0.89411765]\n",
            "   ...\n",
            "   [0.89411765 0.85882353 0.82352941]\n",
            "   [0.85882353 0.83137255 0.79607843]\n",
            "   [0.87843137 0.85098039 0.81568627]]\n",
            "\n",
            "  [[0.88627451 0.8627451  0.84313725]\n",
            "   [0.99607843 0.97254902 0.95294118]\n",
            "   [1.         1.         0.98431373]\n",
            "   ...\n",
            "   [0.93333333 0.89803922 0.8627451 ]\n",
            "   [0.92941176 0.90196078 0.86666667]\n",
            "   [0.95294118 0.91764706 0.88235294]]\n",
            "\n",
            "  [[0.97254902 0.94509804 0.93333333]\n",
            "   [1.         0.98823529 0.97647059]\n",
            "   [1.         1.         0.98431373]\n",
            "   ...\n",
            "   [0.93333333 0.89411765 0.86666667]\n",
            "   [0.92156863 0.89411765 0.85882353]\n",
            "   [0.90196078 0.86666667 0.83137255]]\n",
            "\n",
            "  ...\n",
            "\n",
            "  [[0.88235294 0.8627451  0.86666667]\n",
            "   [0.81960784 0.80392157 0.8       ]\n",
            "   [0.7372549  0.73333333 0.71764706]\n",
            "   ...\n",
            "   [0.7254902  0.68235294 0.72156863]\n",
            "   [0.85490196 0.82352941 0.86666667]\n",
            "   [0.67843137 0.65882353 0.69411765]]\n",
            "\n",
            "  [[0.76862745 0.75294118 0.74901961]\n",
            "   [0.79215686 0.77647059 0.77254902]\n",
            "   [0.86666667 0.8627451  0.84705882]\n",
            "   ...\n",
            "   [0.5372549  0.49803922 0.54509804]\n",
            "   [0.66666667 0.63921569 0.69019608]\n",
            "   [0.67058824 0.65098039 0.68627451]]\n",
            "\n",
            "  [[0.75686275 0.7372549  0.7254902 ]\n",
            "   [0.78823529 0.77647059 0.76078431]\n",
            "   [0.98823529 0.97254902 0.96862745]\n",
            "   ...\n",
            "   [0.43137255 0.39215686 0.43921569]\n",
            "   [0.49411765 0.45882353 0.50980392]\n",
            "   [0.75686275 0.7254902  0.76470588]]]\n",
            "\n",
            "\n",
            " [[[0.94117647 0.89411765 0.87058824]\n",
            "   [0.95686275 0.90980392 0.88627451]\n",
            "   [0.82745098 0.78431373 0.76862745]\n",
            "   ...\n",
            "   [0.15294118 0.09411765 0.14901961]\n",
            "   [0.14117647 0.08235294 0.1372549 ]\n",
            "   [0.10980392 0.05882353 0.12156863]]\n",
            "\n",
            "  [[0.9372549  0.89019608 0.86666667]\n",
            "   [0.87843137 0.83137255 0.80784314]\n",
            "   [0.82352941 0.77647059 0.76078431]\n",
            "   ...\n",
            "   [0.11372549 0.05490196 0.10980392]\n",
            "   [0.1254902  0.06666667 0.12156863]\n",
            "   [0.14901961 0.08627451 0.15294118]]\n",
            "\n",
            "  [[0.96470588 0.92156863 0.89019608]\n",
            "   [0.96078431 0.91372549 0.89019608]\n",
            "   [0.87843137 0.83137255 0.81568627]\n",
            "   ...\n",
            "   [0.11764706 0.05882353 0.11372549]\n",
            "   [0.12941176 0.07058824 0.1254902 ]\n",
            "   [0.16078431 0.09803922 0.16470588]]\n",
            "\n",
            "  ...\n",
            "\n",
            "  [[0.63529412 0.61176471 0.61568627]\n",
            "   [0.81176471 0.78039216 0.78039216]\n",
            "   [0.92156863 0.89803922 0.90196078]\n",
            "   ...\n",
            "   [0.63921569 0.58039216 0.61176471]\n",
            "   [0.72941176 0.67058824 0.70196078]\n",
            "   [0.72941176 0.67058824 0.70196078]]\n",
            "\n",
            "  [[0.70588235 0.6745098  0.67843137]\n",
            "   [0.8745098  0.82745098 0.82745098]\n",
            "   [0.87058824 0.82745098 0.83529412]\n",
            "   ...\n",
            "   [0.6745098  0.62352941 0.65490196]\n",
            "   [0.74117647 0.69019608 0.72156863]\n",
            "   [0.73333333 0.68235294 0.71372549]]\n",
            "\n",
            "  [[0.84705882 0.8        0.82352941]\n",
            "   [0.91764706 0.8627451  0.87843137]\n",
            "   [0.79215686 0.74901961 0.76078431]\n",
            "   ...\n",
            "   [0.72941176 0.68235294 0.70588235]\n",
            "   [0.65098039 0.6        0.63137255]\n",
            "   [0.69411765 0.64313725 0.6745098 ]]]\n",
            "\n",
            "\n",
            " [[[0.09019608 0.02745098 0.11764706]\n",
            "   [0.07058824 0.01568627 0.10980392]\n",
            "   [0.1254902  0.0627451  0.15686275]\n",
            "   ...\n",
            "   [0.8        0.75294118 0.75294118]\n",
            "   [0.90980392 0.8627451  0.8627451 ]\n",
            "   [0.85882353 0.81176471 0.81176471]]\n",
            "\n",
            "  [[0.14509804 0.08235294 0.17254902]\n",
            "   [0.0627451  0.00784314 0.10196078]\n",
            "   [0.14509804 0.08235294 0.17647059]\n",
            "   ...\n",
            "   [0.77254902 0.7254902  0.7254902 ]\n",
            "   [0.83921569 0.79215686 0.79215686]\n",
            "   [0.81960784 0.77254902 0.77254902]]\n",
            "\n",
            "  [[0.10196078 0.04313725 0.1254902 ]\n",
            "   [0.10980392 0.04705882 0.1372549 ]\n",
            "   [0.08627451 0.02352941 0.11372549]\n",
            "   ...\n",
            "   [0.82352941 0.77647059 0.77647059]\n",
            "   [0.82352941 0.77647059 0.77647059]\n",
            "   [0.88235294 0.83529412 0.83529412]]\n",
            "\n",
            "  ...\n",
            "\n",
            "  [[0.7254902  0.65882353 0.70980392]\n",
            "   [0.6627451  0.60784314 0.65098039]\n",
            "   [0.56470588 0.50980392 0.55294118]\n",
            "   ...\n",
            "   [0.75686275 0.7254902  0.72941176]\n",
            "   [0.79215686 0.76078431 0.76470588]\n",
            "   [0.89019608 0.85882353 0.8627451 ]]\n",
            "\n",
            "  [[0.61568627 0.56078431 0.60784314]\n",
            "   [0.5254902  0.47058824 0.51372549]\n",
            "   [0.50196078 0.44705882 0.49019608]\n",
            "   ...\n",
            "   [0.70196078 0.67058824 0.6745098 ]\n",
            "   [0.74117647 0.70980392 0.71372549]\n",
            "   [0.83921569 0.80784314 0.81176471]]\n",
            "\n",
            "  [[0.51372549 0.45098039 0.49411765]\n",
            "   [0.40784314 0.34509804 0.38823529]\n",
            "   [0.51372549 0.45490196 0.48627451]\n",
            "   ...\n",
            "   [0.81176471 0.78039216 0.78431373]\n",
            "   [0.78431373 0.75294118 0.75686275]\n",
            "   [0.81568627 0.78431373 0.78823529]]]\n",
            "\n",
            "\n",
            " ...\n",
            "\n",
            "\n",
            " [[[0.83529412 0.78823529 0.76470588]\n",
            "   [0.85882353 0.81176471 0.78823529]\n",
            "   [0.86666667 0.82745098 0.8       ]\n",
            "   ...\n",
            "   [0.7254902  0.78823529 0.85098039]\n",
            "   [0.70588235 0.76862745 0.83137255]\n",
            "   [0.71372549 0.77254902 0.83529412]]\n",
            "\n",
            "  [[0.85490196 0.80784314 0.78431373]\n",
            "   [0.87843137 0.83137255 0.80784314]\n",
            "   [0.89019608 0.85098039 0.82352941]\n",
            "   ...\n",
            "   [0.69411765 0.75686275 0.82352941]\n",
            "   [0.6745098  0.7372549  0.8       ]\n",
            "   [0.67843137 0.7372549  0.8       ]]\n",
            "\n",
            "  [[0.85098039 0.80392157 0.78823529]\n",
            "   [0.85882353 0.81176471 0.79607843]\n",
            "   [0.85882353 0.81568627 0.8       ]\n",
            "   ...\n",
            "   [0.70196078 0.76470588 0.83137255]\n",
            "   [0.68627451 0.74901961 0.81176471]\n",
            "   [0.68235294 0.74509804 0.80784314]]\n",
            "\n",
            "  ...\n",
            "\n",
            "  [[0.85490196 0.81960784 0.80784314]\n",
            "   [0.81176471 0.77647059 0.76470588]\n",
            "   [0.78431373 0.74901961 0.7372549 ]\n",
            "   ...\n",
            "   [0.75686275 0.72941176 0.71764706]\n",
            "   [0.71764706 0.68627451 0.68627451]\n",
            "   [0.70980392 0.69019608 0.68627451]]\n",
            "\n",
            "  [[0.77647059 0.74117647 0.72941176]\n",
            "   [0.8        0.76470588 0.75294118]\n",
            "   [0.8627451  0.82745098 0.81568627]\n",
            "   ...\n",
            "   [0.78039216 0.76078431 0.75686275]\n",
            "   [0.76078431 0.7372549  0.74117647]\n",
            "   [0.74117647 0.71764706 0.72156863]]\n",
            "\n",
            "  [[0.90980392 0.8745098  0.85882353]\n",
            "   [0.90196078 0.86666667 0.85098039]\n",
            "   [0.88235294 0.84705882 0.83529412]\n",
            "   ...\n",
            "   [0.81176471 0.78823529 0.79215686]\n",
            "   [0.80392157 0.78039216 0.78431373]\n",
            "   [0.75686275 0.7372549  0.74117647]]]\n",
            "\n",
            "\n",
            " [[[0.72941176 0.77647059 0.84705882]\n",
            "   [0.7254902  0.76470588 0.83529412]\n",
            "   [0.7254902  0.76470588 0.83529412]\n",
            "   ...\n",
            "   [0.18431373 0.17254902 0.20784314]\n",
            "   [0.20784314 0.19607843 0.23137255]\n",
            "   [0.23529412 0.22352941 0.25882353]]\n",
            "\n",
            "  [[0.70196078 0.74509804 0.82352941]\n",
            "   [0.70980392 0.74509804 0.82352941]\n",
            "   [0.7254902  0.76470588 0.83529412]\n",
            "   ...\n",
            "   [0.25490196 0.23529412 0.27058824]\n",
            "   [0.23921569 0.21960784 0.25490196]\n",
            "   [0.18431373 0.16470588 0.2       ]]\n",
            "\n",
            "  [[0.68627451 0.74117647 0.81568627]\n",
            "   [0.70980392 0.75294118 0.83137255]\n",
            "   [0.7372549  0.78039216 0.85882353]\n",
            "   ...\n",
            "   [0.27058824 0.25098039 0.28627451]\n",
            "   [0.24313725 0.21176471 0.25098039]\n",
            "   [0.18823529 0.15686275 0.19607843]]\n",
            "\n",
            "  ...\n",
            "\n",
            "  [[0.72156863 0.70196078 0.70588235]\n",
            "   [0.74509804 0.73333333 0.74117647]\n",
            "   [0.76470588 0.75294118 0.76078431]\n",
            "   ...\n",
            "   [0.51764706 0.4745098  0.45882353]\n",
            "   [0.53333333 0.49019608 0.4745098 ]\n",
            "   [0.55686275 0.51372549 0.49803922]]\n",
            "\n",
            "  [[0.79215686 0.77254902 0.78039216]\n",
            "   [0.79215686 0.78039216 0.78823529]\n",
            "   [0.77647059 0.76470588 0.77254902]\n",
            "   ...\n",
            "   [0.77647059 0.7372549  0.70980392]\n",
            "   [0.79215686 0.74509804 0.72156863]\n",
            "   [0.81568627 0.76862745 0.74509804]]\n",
            "\n",
            "  [[0.75686275 0.74901961 0.74901961]\n",
            "   [0.78431373 0.77647059 0.77647059]\n",
            "   [0.79607843 0.78823529 0.78823529]\n",
            "   ...\n",
            "   [0.86666667 0.82745098 0.8       ]\n",
            "   [0.86666667 0.81960784 0.79607843]\n",
            "   [0.84705882 0.8        0.77647059]]]\n",
            "\n",
            "\n",
            " [[[0.24705882 0.23137255 0.25490196]\n",
            "   [0.18823529 0.16078431 0.18823529]\n",
            "   [0.17254902 0.14509804 0.17254902]\n",
            "   ...\n",
            "   [0.54117647 0.5372549  0.55294118]\n",
            "   [0.55294118 0.54901961 0.55686275]\n",
            "   [0.56078431 0.57254902 0.58823529]]\n",
            "\n",
            "  [[0.21176471 0.18431373 0.21176471]\n",
            "   [0.18039216 0.15294118 0.18039216]\n",
            "   [0.19607843 0.16862745 0.19607843]\n",
            "   ...\n",
            "   [0.51372549 0.50980392 0.5254902 ]\n",
            "   [0.50588235 0.50196078 0.51764706]\n",
            "   [0.51372549 0.5254902  0.54117647]]\n",
            "\n",
            "  [[0.2        0.16862745 0.20784314]\n",
            "   [0.20784314 0.17647059 0.21568627]\n",
            "   [0.22352941 0.20392157 0.23921569]\n",
            "   ...\n",
            "   [0.49411765 0.49411765 0.51764706]\n",
            "   [0.48627451 0.48627451 0.50980392]\n",
            "   [0.52156863 0.53333333 0.55294118]]\n",
            "\n",
            "  ...\n",
            "\n",
            "  [[0.72156863 0.67843137 0.6627451 ]\n",
            "   [0.74509804 0.70980392 0.69411765]\n",
            "   [0.7372549  0.70588235 0.67843137]\n",
            "   ...\n",
            "   [0.41568627 0.44313725 0.51764706]\n",
            "   [0.45098039 0.47843137 0.55686275]\n",
            "   [0.47843137 0.50588235 0.58039216]]\n",
            "\n",
            "  [[0.81960784 0.78039216 0.75294118]\n",
            "   [0.81176471 0.78431373 0.74901961]\n",
            "   [0.84313725 0.81568627 0.78039216]\n",
            "   ...\n",
            "   [0.43921569 0.45882353 0.54117647]\n",
            "   [0.44705882 0.46666667 0.54901961]\n",
            "   [0.43921569 0.46666667 0.54117647]]\n",
            "\n",
            "  [[0.89019608 0.84705882 0.81568627]\n",
            "   [0.89019608 0.85490196 0.81960784]\n",
            "   [0.8745098  0.85098039 0.80784314]\n",
            "   ...\n",
            "   [0.45882353 0.48235294 0.55686275]\n",
            "   [0.43137255 0.45490196 0.52941176]\n",
            "   [0.39215686 0.41568627 0.49019608]]]]\n"
          ]
        }
      ]
    },
    {
      "cell_type": "code",
      "source": [],
      "metadata": {
        "id": "6PdVPY4JOalv"
      },
      "execution_count": null,
      "outputs": []
    },
    {
      "cell_type": "code",
      "execution_count": null,
      "metadata": {
        "id": "Vi-M8NJVhr9L"
      },
      "outputs": [],
      "source": [
        "x_train, x_test, y_train, y_test = train_test_split(master_training_dataset, labels_categorical_dataset, test_size=0.20, random_state=100)"
      ]
    },
    {
      "cell_type": "code",
      "source": [
        "image_height = x_train.shape[1]\n",
        "image_width = x_train.shape[2]\n",
        "image_channels = x_train.shape[3]\n",
        "total_classes = y_train.shape[3]"
      ],
      "metadata": {
        "id": "hjyMJxY27i08"
      },
      "execution_count": null,
      "outputs": []
    },
    {
      "cell_type": "markdown",
      "source": [
        "Part 2"
      ],
      "metadata": {
        "id": "B6df-Xgb3xTN"
      }
    },
    {
      "cell_type": "code",
      "source": [
        "!pip install segmentation-models==1.0.1"
      ],
      "metadata": {
        "id": "-7d5JQVa-s_K",
        "colab": {
          "base_uri": "https://localhost:8080/"
        },
        "outputId": "b7e22855-6139-46ce-dca2-f5bdaba0fa96"
      },
      "execution_count": null,
      "outputs": [
        {
          "output_type": "stream",
          "name": "stdout",
          "text": [
            "Collecting segmentation-models==1.0.1\n",
            "  Downloading segmentation_models-1.0.1-py3-none-any.whl.metadata (938 bytes)\n",
            "Collecting keras-applications<=1.0.8,>=1.0.7 (from segmentation-models==1.0.1)\n",
            "  Downloading Keras_Applications-1.0.8-py3-none-any.whl.metadata (1.7 kB)\n",
            "Collecting image-classifiers==1.0.0 (from segmentation-models==1.0.1)\n",
            "  Downloading image_classifiers-1.0.0-py3-none-any.whl.metadata (8.6 kB)\n",
            "Collecting efficientnet==1.0.0 (from segmentation-models==1.0.1)\n",
            "  Downloading efficientnet-1.0.0-py3-none-any.whl.metadata (6.1 kB)\n",
            "Requirement already satisfied: scikit-image in /usr/local/lib/python3.10/dist-packages (from efficientnet==1.0.0->segmentation-models==1.0.1) (0.23.2)\n",
            "Requirement already satisfied: numpy>=1.9.1 in /usr/local/lib/python3.10/dist-packages (from keras-applications<=1.0.8,>=1.0.7->segmentation-models==1.0.1) (1.26.4)\n",
            "Requirement already satisfied: h5py in /usr/local/lib/python3.10/dist-packages (from keras-applications<=1.0.8,>=1.0.7->segmentation-models==1.0.1) (3.11.0)\n",
            "Requirement already satisfied: scipy>=1.9 in /usr/local/lib/python3.10/dist-packages (from scikit-image->efficientnet==1.0.0->segmentation-models==1.0.1) (1.13.1)\n",
            "Requirement already satisfied: networkx>=2.8 in /usr/local/lib/python3.10/dist-packages (from scikit-image->efficientnet==1.0.0->segmentation-models==1.0.1) (3.3)\n",
            "Requirement already satisfied: pillow>=9.1 in /usr/local/lib/python3.10/dist-packages (from scikit-image->efficientnet==1.0.0->segmentation-models==1.0.1) (10.4.0)\n",
            "Requirement already satisfied: imageio>=2.33 in /usr/local/lib/python3.10/dist-packages (from scikit-image->efficientnet==1.0.0->segmentation-models==1.0.1) (2.35.1)\n",
            "Requirement already satisfied: tifffile>=2022.8.12 in /usr/local/lib/python3.10/dist-packages (from scikit-image->efficientnet==1.0.0->segmentation-models==1.0.1) (2024.8.28)\n",
            "Requirement already satisfied: packaging>=21 in /usr/local/lib/python3.10/dist-packages (from scikit-image->efficientnet==1.0.0->segmentation-models==1.0.1) (24.1)\n",
            "Requirement already satisfied: lazy-loader>=0.4 in /usr/local/lib/python3.10/dist-packages (from scikit-image->efficientnet==1.0.0->segmentation-models==1.0.1) (0.4)\n",
            "Downloading segmentation_models-1.0.1-py3-none-any.whl (33 kB)\n",
            "Downloading efficientnet-1.0.0-py3-none-any.whl (17 kB)\n",
            "Downloading image_classifiers-1.0.0-py3-none-any.whl (19 kB)\n",
            "Downloading Keras_Applications-1.0.8-py3-none-any.whl (50 kB)\n",
            "\u001b[2K   \u001b[90m━━━━━━━━━━━━━━━━━━━━━━━━━━━━━━━━━━━━━━━━\u001b[0m \u001b[32m50.7/50.7 kB\u001b[0m \u001b[31m1.8 MB/s\u001b[0m eta \u001b[36m0:00:00\u001b[0m\n",
            "\u001b[?25hInstalling collected packages: keras-applications, image-classifiers, efficientnet, segmentation-models\n",
            "Successfully installed efficientnet-1.0.0 image-classifiers-1.0.0 keras-applications-1.0.8 segmentation-models-1.0.1\n"
          ]
        }
      ]
    },
    {
      "cell_type": "code",
      "source": [
        "from keras.models import Model\n",
        "from keras.layers import Input, Conv2D, MaxPooling2D, UpSampling2D, concatenate, Conv2DTranspose, BatchNormalization, Dropout, Lambda\n",
        "from keras import backend as K"
      ],
      "metadata": {
        "id": "iHZ_U3hS30ld"
      },
      "execution_count": null,
      "outputs": []
    },
    {
      "cell_type": "code",
      "source": [
        "def jaccard_coef(y_true, y_pred):\n",
        "  y_true_flatten = K.flatten(y_true)\n",
        "  y_pred_flatten = K.flatten(y_pred)\n",
        "  intersection = K.sum(y_true_flatten * y_pred_flatten)\n",
        "  final_coeff_value = (intersection + 1.0) / (K.sum(y_true_flatten) + K.sum(y_pred_flatten) - intersection + 1.0)\n",
        "  return final_coeff_value"
      ],
      "metadata": {
        "id": "cL5BHdQU39n0"
      },
      "execution_count": null,
      "outputs": []
    },
    {
      "cell_type": "code",
      "source": [
        "def multi_unet_model(n_classes=5, image_height=256, image_width=256, image_channels=3):\n",
        "  inputs = Input((image_height, image_width, image_channels))\n",
        "  source_input = inputs\n",
        "\n",
        "  c1 = Conv2D(16, (3,3), activation='relu', kernel_initializer='he_normal', padding='same')(source_input)\n",
        "  c1 = Dropout(0.2)(c1)\n",
        "  c1 = Conv2D(16, (3,3), activation='relu', kernel_initializer='he_normal', padding='same')(c1)\n",
        "  p1 = MaxPooling2D((2,2))(c1)\n",
        "\n",
        "  c2 = Conv2D(32, (3,3), activation='relu', kernel_initializer='he_normal', padding='same')(p1)\n",
        "  c2 = Dropout(0.2)(c2)\n",
        "  c2 = Conv2D(32, (3,3), activation='relu', kernel_initializer='he_normal', padding='same')(c2)\n",
        "  p2 = MaxPooling2D((2,2))(c2)\n",
        "\n",
        "  c3 = Conv2D(64, (3,3), activation='relu', kernel_initializer='he_normal', padding='same')(p2)\n",
        "  c3 = Dropout(0.2)(c3)\n",
        "  c3 = Conv2D(64, (3,3), activation='relu', kernel_initializer='he_normal', padding='same')(c3)\n",
        "  p3 = MaxPooling2D((2,2))(c3)\n",
        "\n",
        "  c4 = Conv2D(128, (3,3), activation='relu', kernel_initializer='he_normal', padding='same')(p3)\n",
        "  c4 = Dropout(0.2)(c4)\n",
        "  c4 = Conv2D(128, (3,3), activation='relu', kernel_initializer='he_normal', padding='same')(c4)\n",
        "  p4 = MaxPooling2D((2,2))(c4)\n",
        "\n",
        "  c5 = Conv2D(256, (3,3), activation='relu', kernel_initializer='he_normal', padding='same')(p4)\n",
        "  c5 = Dropout(0.3)(c5)\n",
        "  c5 = Conv2D(256, (3,3), activation='relu', kernel_initializer='he_normal', padding='same')(c5)\n",
        "\n",
        "  u6 = Conv2DTranspose(128, (2,2), strides=(2,2), padding='same')(c5)\n",
        "  u6 = concatenate([u6, c4])\n",
        "  c6 = Conv2D(128, (3,3), activation='relu', kernel_initializer='he_normal', padding='same')(u6)\n",
        "  c6 = Dropout(0.2)(c6)\n",
        "  c6 = Conv2D(128, (3,3), activation='relu', kernel_initializer='he_normal', padding='same')(c6)\n",
        "\n",
        "  u7 = Conv2DTranspose(64, (2,2), strides=(2,2), padding='same')(c6)\n",
        "  u7 = 70([u7, c3])\n",
        "  c7 = Conv2D(64, (3,3), activation='relu', kernel_initializer='he_normal', padding='same')(u7)\n",
        "  c7 = Dropout(0.2)(c7)\n",
        "  c7 = Conv2D(64, (3,3), activation='relu', kernel_initializer='he_normal', padding='same')(c7)\n",
        "\n",
        "  u8 = Conv2DTranspose(32, (2,2), strides=(2,2), padding='same')(c7)\n",
        "  u8 = concatenate([u8, c2])\n",
        "  c8 = Conv2D(32, (3,3), activation='relu', kernel_initializer='he_normal', padding='same')(u8)\n",
        "  c8 = Dropout(0.2)(c8)\n",
        "  c8 = Conv2D(32, (3,3), activation='relu', kernel_initializer='he_normal', padding='same')(c8)\n",
        "\n",
        "  u9 = Conv2DTranspose(16, (2,2), strides=(2,2), padding='same')(c8)\n",
        "  u9 = concatenate([u9, c1], axis=3)\n",
        "  c9 = Conv2D(16, (3,3), activation='relu', kernel_initializer='he_normal', padding='same')(u9)\n",
        "  c9 = Dropout(0.2)(c9)\n",
        "  c9 = Conv2D(16, (3,3), activation='relu', kernel_initializer='he_normal', padding='same')(c9)\n",
        "\n",
        "  outputs = Conv2D(n_classes, (1,1), activation='softmax')(c9)\n",
        "  model = Model(inputs=[inputs], outputs=[outputs])\n",
        "  return model"
      ],
      "metadata": {
        "id": "0xS9mmXp4QIL"
      },
      "execution_count": null,
      "outputs": []
    },
    {
      "cell_type": "code",
      "source": [
        "metrics = ['accuracy', jaccard_coef]"
      ],
      "metadata": {
        "id": "ht2QMSYi6b4O"
      },
      "execution_count": null,
      "outputs": []
    },
    {
      "cell_type": "code",
      "source": [
        "def get_deep_learning_model():\n",
        "  return multi_unet_model(n_classes=total_classes, image_height=image_height, image_width=image_width, image_channels=image_channels)"
      ],
      "metadata": {
        "id": "TIdnsTDC6fP8"
      },
      "execution_count": null,
      "outputs": []
    },
    {
      "cell_type": "code",
      "source": [
        "model = get_deep_learning_model()"
      ],
      "metadata": {
        "id": "TTlJop2q6dfg"
      },
      "execution_count": null,
      "outputs": []
    },
    {
      "cell_type": "code",
      "source": [
        "## model configuration\n",
        "# model.get_config()"
      ],
      "metadata": {
        "id": "TxcYkkgK8TWP"
      },
      "execution_count": null,
      "outputs": []
    },
    {
      "cell_type": "markdown",
      "source": [
        "Generating Loss Function"
      ],
      "metadata": {
        "id": "qwIMrgaD8-x4"
      }
    },
    {
      "cell_type": "code",
      "source": [
        "%env SM_FRAMEWORK=tf.keras"
      ],
      "metadata": {
        "id": "pR2iq8x4CSGE",
        "colab": {
          "base_uri": "https://localhost:8080/"
        },
        "outputId": "99f333c2-5bb8-42e1-a3c5-3a08cd2e8324"
      },
      "execution_count": null,
      "outputs": [
        {
          "output_type": "stream",
          "name": "stdout",
          "text": [
            "env: SM_FRAMEWORK=tf.keras\n"
          ]
        }
      ]
    },
    {
      "cell_type": "code",
      "source": [
        "import segmentation_models as sm"
      ],
      "metadata": {
        "id": "uMaOS820-19E",
        "colab": {
          "base_uri": "https://localhost:8080/"
        },
        "outputId": "d519acbd-4bb7-4131-f298-0c94bfcc41cb"
      },
      "execution_count": null,
      "outputs": [
        {
          "output_type": "stream",
          "name": "stdout",
          "text": [
            "Segmentation Models: using `tf.keras` framework.\n"
          ]
        }
      ]
    },
    {
      "cell_type": "code",
      "source": [
        "weights = [0.1666, 0.1666, 0.1666, 0.1666, 0.1666, 0.1666]"
      ],
      "metadata": {
        "id": "ECUe8nWx9CNV"
      },
      "execution_count": null,
      "outputs": []
    },
    {
      "cell_type": "code",
      "source": [
        "dice_loss = sm.losses.DiceLoss(class_weights=weights)\n",
        "focal_loss = sm.losses.CategoricalFocalLoss()\n",
        "total_loss = dice_loss + (1 * focal_loss)"
      ],
      "metadata": {
        "id": "l5HB6kpn9MHl"
      },
      "execution_count": null,
      "outputs": []
    },
    {
      "cell_type": "markdown",
      "source": [
        "Modal Compilation"
      ],
      "metadata": {
        "id": "Y8j5UEhn9h2W"
      }
    },
    {
      "cell_type": "code",
      "source": [
        "import tensorflow as tf"
      ],
      "metadata": {
        "id": "bDzQHeAO9NhO"
      },
      "execution_count": null,
      "outputs": []
    },
    {
      "cell_type": "code",
      "source": [
        "tf.keras.backend.clear_session()"
      ],
      "metadata": {
        "id": "-9x_e2Y39lXP"
      },
      "execution_count": null,
      "outputs": []
    },
    {
      "cell_type": "code",
      "source": [
        "model.compile(optimizer='adam', loss=total_loss, metrics=metrics)"
      ],
      "metadata": {
        "id": "Z9uaXV9E9ovk"
      },
      "execution_count": null,
      "outputs": []
    },
    {
      "cell_type": "code",
      "source": [
        "## Modal summary, similar to netron visualisation\n",
        "# model.summary()"
      ],
      "metadata": {
        "id": "_LTl3VTo93zG"
      },
      "execution_count": null,
      "outputs": []
    },
    {
      "cell_type": "code",
      "source": [
        "model_history = model.fit(x_train, y_train, batch_size=16, verbose=1, epochs=200, validation_data=(x_test, y_test), shuffle=False)"
      ],
      "metadata": {
        "id": "ja0PrDcO96EP",
        "colab": {
          "base_uri": "https://localhost:8080/"
        },
        "outputId": "072476e1-8e51-4bd8-b4f6-f1fb1356410f"
      },
      "execution_count": null,
      "outputs": [
        {
          "output_type": "stream",
          "name": "stdout",
          "text": [
            "Epoch 1/200\n",
            "66/66 [==============================] - 117s 2s/step - loss: 0.9987 - accuracy: 0.5305 - jaccard_coef: 0.2645 - val_loss: 0.9887 - val_accuracy: 0.5742 - val_jaccard_coef: 0.3473\n",
            "Epoch 2/200\n",
            "66/66 [==============================] - 110s 2s/step - loss: 0.9687 - accuracy: 0.6683 - jaccard_coef: 0.4093 - val_loss: 0.9639 - val_accuracy: 0.7141 - val_jaccard_coef: 0.4302\n",
            "Epoch 3/200\n",
            "66/66 [==============================] - 109s 2s/step - loss: 0.9500 - accuracy: 0.7345 - jaccard_coef: 0.4942 - val_loss: 0.9544 - val_accuracy: 0.7222 - val_jaccard_coef: 0.4694\n",
            "Epoch 4/200\n",
            "66/66 [==============================] - 108s 2s/step - loss: 0.9439 - accuracy: 0.7550 - jaccard_coef: 0.5264 - val_loss: 0.9544 - val_accuracy: 0.7225 - val_jaccard_coef: 0.4445\n",
            "Epoch 5/200\n",
            "66/66 [==============================] - 109s 2s/step - loss: 0.9381 - accuracy: 0.7755 - jaccard_coef: 0.5567 - val_loss: 0.9472 - val_accuracy: 0.7481 - val_jaccard_coef: 0.5189\n",
            "Epoch 6/200\n",
            "66/66 [==============================] - 108s 2s/step - loss: 0.9332 - accuracy: 0.7917 - jaccard_coef: 0.5833 - val_loss: 0.9450 - val_accuracy: 0.7559 - val_jaccard_coef: 0.5458\n",
            "Epoch 7/200\n",
            "66/66 [==============================] - 106s 2s/step - loss: 0.9296 - accuracy: 0.7995 - jaccard_coef: 0.5974 - val_loss: 0.9475 - val_accuracy: 0.7438 - val_jaccard_coef: 0.5332\n",
            "Epoch 8/200\n",
            "66/66 [==============================] - 107s 2s/step - loss: 0.9268 - accuracy: 0.8075 - jaccard_coef: 0.6107 - val_loss: 0.9395 - val_accuracy: 0.7740 - val_jaccard_coef: 0.5815\n",
            "Epoch 9/200\n",
            "66/66 [==============================] - 107s 2s/step - loss: 0.9238 - accuracy: 0.8149 - jaccard_coef: 0.6241 - val_loss: 0.9444 - val_accuracy: 0.7608 - val_jaccard_coef: 0.5709\n",
            "Epoch 10/200\n",
            "66/66 [==============================] - 108s 2s/step - loss: 0.9219 - accuracy: 0.8185 - jaccard_coef: 0.6311 - val_loss: 0.9410 - val_accuracy: 0.7697 - val_jaccard_coef: 0.5813\n",
            "Epoch 11/200\n",
            "66/66 [==============================] - 108s 2s/step - loss: 0.9198 - accuracy: 0.8238 - jaccard_coef: 0.6397 - val_loss: 0.9370 - val_accuracy: 0.7832 - val_jaccard_coef: 0.6042\n",
            "Epoch 12/200\n",
            "66/66 [==============================] - 107s 2s/step - loss: 0.9200 - accuracy: 0.8239 - jaccard_coef: 0.6400 - val_loss: 0.9316 - val_accuracy: 0.7958 - val_jaccard_coef: 0.6210\n",
            "Epoch 13/200\n",
            "66/66 [==============================] - 107s 2s/step - loss: 0.9167 - accuracy: 0.8320 - jaccard_coef: 0.6535 - val_loss: 0.9334 - val_accuracy: 0.7947 - val_jaccard_coef: 0.6255\n",
            "Epoch 14/200\n",
            "66/66 [==============================] - 107s 2s/step - loss: 0.9159 - accuracy: 0.8346 - jaccard_coef: 0.6576 - val_loss: 0.9349 - val_accuracy: 0.7903 - val_jaccard_coef: 0.6195\n",
            "Epoch 15/200\n",
            "66/66 [==============================] - 107s 2s/step - loss: 0.9150 - accuracy: 0.8376 - jaccard_coef: 0.6611 - val_loss: 0.9293 - val_accuracy: 0.8043 - val_jaccard_coef: 0.6409\n",
            "Epoch 16/200\n",
            "66/66 [==============================] - 106s 2s/step - loss: 0.9137 - accuracy: 0.8404 - jaccard_coef: 0.6671 - val_loss: 0.9327 - val_accuracy: 0.7969 - val_jaccard_coef: 0.6307\n",
            "Epoch 17/200\n",
            "66/66 [==============================] - 106s 2s/step - loss: 0.9128 - accuracy: 0.8425 - jaccard_coef: 0.6700 - val_loss: 0.9306 - val_accuracy: 0.8000 - val_jaccard_coef: 0.6323\n",
            "Epoch 18/200\n",
            "66/66 [==============================] - 106s 2s/step - loss: 0.9119 - accuracy: 0.8447 - jaccard_coef: 0.6740 - val_loss: 0.9321 - val_accuracy: 0.7975 - val_jaccard_coef: 0.6325\n",
            "Epoch 19/200\n",
            "66/66 [==============================] - 106s 2s/step - loss: 0.9107 - accuracy: 0.8476 - jaccard_coef: 0.6799 - val_loss: 0.9302 - val_accuracy: 0.8028 - val_jaccard_coef: 0.6375\n",
            "Epoch 20/200\n",
            "66/66 [==============================] - 106s 2s/step - loss: 0.9111 - accuracy: 0.8470 - jaccard_coef: 0.6775 - val_loss: 0.9277 - val_accuracy: 0.8089 - val_jaccard_coef: 0.6451\n",
            "Epoch 21/200\n",
            "66/66 [==============================] - 105s 2s/step - loss: 0.9122 - accuracy: 0.8441 - jaccard_coef: 0.6732 - val_loss: 0.9276 - val_accuracy: 0.8091 - val_jaccard_coef: 0.6448\n",
            "Epoch 22/200\n",
            "66/66 [==============================] - 105s 2s/step - loss: 0.9097 - accuracy: 0.8501 - jaccard_coef: 0.6833 - val_loss: 0.9235 - val_accuracy: 0.8186 - val_jaccard_coef: 0.6567\n",
            "Epoch 23/200\n",
            "66/66 [==============================] - 106s 2s/step - loss: 0.9090 - accuracy: 0.8516 - jaccard_coef: 0.6870 - val_loss: 0.9225 - val_accuracy: 0.8237 - val_jaccard_coef: 0.6667\n",
            "Epoch 24/200\n",
            "66/66 [==============================] - 106s 2s/step - loss: 0.9095 - accuracy: 0.8500 - jaccard_coef: 0.6861 - val_loss: 0.9240 - val_accuracy: 0.8185 - val_jaccard_coef: 0.6588\n",
            "Epoch 25/200\n",
            "66/66 [==============================] - 106s 2s/step - loss: 0.9083 - accuracy: 0.8505 - jaccard_coef: 0.6898 - val_loss: 0.9221 - val_accuracy: 0.8223 - val_jaccard_coef: 0.6659\n",
            "Epoch 26/200\n",
            "66/66 [==============================] - 105s 2s/step - loss: 0.9068 - accuracy: 0.8542 - jaccard_coef: 0.6985 - val_loss: 0.9239 - val_accuracy: 0.8194 - val_jaccard_coef: 0.6604\n",
            "Epoch 27/200\n",
            "66/66 [==============================] - 105s 2s/step - loss: 0.9072 - accuracy: 0.8534 - jaccard_coef: 0.6980 - val_loss: 0.9249 - val_accuracy: 0.8213 - val_jaccard_coef: 0.6664\n",
            "Epoch 28/200\n",
            "66/66 [==============================] - 106s 2s/step - loss: 0.9057 - accuracy: 0.8553 - jaccard_coef: 0.7036 - val_loss: 0.9217 - val_accuracy: 0.8256 - val_jaccard_coef: 0.6707\n",
            "Epoch 29/200\n",
            "66/66 [==============================] - 106s 2s/step - loss: 0.9067 - accuracy: 0.8535 - jaccard_coef: 0.6989 - val_loss: 0.9261 - val_accuracy: 0.8195 - val_jaccard_coef: 0.6678\n",
            "Epoch 30/200\n",
            "66/66 [==============================] - 107s 2s/step - loss: 0.9050 - accuracy: 0.8570 - jaccard_coef: 0.7071 - val_loss: 0.9245 - val_accuracy: 0.8219 - val_jaccard_coef: 0.6657\n",
            "Epoch 31/200\n",
            "66/66 [==============================] - 107s 2s/step - loss: 0.9053 - accuracy: 0.8558 - jaccard_coef: 0.7045 - val_loss: 0.9248 - val_accuracy: 0.8204 - val_jaccard_coef: 0.6564\n",
            "Epoch 32/200\n",
            "66/66 [==============================] - 106s 2s/step - loss: 0.9065 - accuracy: 0.8542 - jaccard_coef: 0.7000 - val_loss: 0.9225 - val_accuracy: 0.8235 - val_jaccard_coef: 0.6714\n",
            "Epoch 33/200\n",
            "66/66 [==============================] - 106s 2s/step - loss: 0.9057 - accuracy: 0.8548 - jaccard_coef: 0.7025 - val_loss: 0.9234 - val_accuracy: 0.8239 - val_jaccard_coef: 0.6715\n",
            "Epoch 34/200\n",
            "66/66 [==============================] - 105s 2s/step - loss: 0.9042 - accuracy: 0.8574 - jaccard_coef: 0.7075 - val_loss: 0.9219 - val_accuracy: 0.8283 - val_jaccard_coef: 0.6758\n",
            "Epoch 35/200\n",
            "66/66 [==============================] - 106s 2s/step - loss: 0.9042 - accuracy: 0.8556 - jaccard_coef: 0.7034 - val_loss: 0.9220 - val_accuracy: 0.8237 - val_jaccard_coef: 0.6660\n",
            "Epoch 36/200\n",
            "66/66 [==============================] - 106s 2s/step - loss: 0.9046 - accuracy: 0.8543 - jaccard_coef: 0.7013 - val_loss: 0.9223 - val_accuracy: 0.8269 - val_jaccard_coef: 0.6814\n",
            "Epoch 37/200\n",
            "66/66 [==============================] - 105s 2s/step - loss: 0.9035 - accuracy: 0.8579 - jaccard_coef: 0.7080 - val_loss: 0.9235 - val_accuracy: 0.8242 - val_jaccard_coef: 0.6745\n",
            "Epoch 38/200\n",
            "43/66 [==================>...........] - ETA: 35s - loss: 0.9016 - accuracy: 0.8527 - jaccard_coef: 0.6995"
          ]
        }
      ]
    },
    {
      "cell_type": "code",
      "source": [],
      "metadata": {
        "id": "FgePEcgfkxRb"
      },
      "execution_count": null,
      "outputs": []
    }
  ],
  "metadata": {
    "colab": {
      "provenance": [],
      "gpuType": "T4"
    },
    "kernelspec": {
      "display_name": "Python 3",
      "name": "python3"
    },
    "language_info": {
      "name": "python"
    },
    "accelerator": "GPU"
  },
  "nbformat": 4,
  "nbformat_minor": 0
}